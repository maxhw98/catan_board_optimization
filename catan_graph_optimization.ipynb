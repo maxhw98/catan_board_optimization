{
 "cells": [
  {
   "cell_type": "markdown",
   "metadata": {},
   "source": [
    "# Graph Theory and Catan: creating the most balanced board setup"
   ]
  },
  {
   "cell_type": "markdown",
   "metadata": {},
   "source": [
    "<font size=\"4\"> \n",
    "\n",
    "In the game of Catan, each game a new playing board is laid out by the players. First the tiles are laid out. Then each location is assigned a particular roll outcome from a two dice roll and yields a resource card if that number is rolled. Theoretically the board is randomized every time, but there is an order to the dice roll tiles to bring a little more balance to things. That said, you skip the desert (a non resource yielding tile) and where the desert is and how you skip is is critical to the balance of the game. \n",
    "    \n",
    "<br/>\n",
    "\n",
    "\n",
    "    \n",
    "So how do you create the most balanced Catan layout? (We will look at only resource yields rather than what specific resource it is for now). Using the alphabetical order that go with the number tiles (5,2,6,3 etc) is a good starting point. It creates a pretty well balanced board in the ideal case of the desert ending up in the middle. But one of the great things about Catan is that the resource fields can be arranged randomly to give a fresh board and unique resource distribution each game. The ideal case of desert in the middle only occurs organically one in nineteen times. Usually the desert will be in the first or second ring or hexes. How do you optimally skip the desert? When you jump from one ring to the next should you rotate the second ring to make sure to avoid overpowered spots (think 6 or 8 next to another 6 or 8)? With the desert in the middle you should be fine, but once you skip over a desert in the first or second ring it gets tricky. What about when you encounter the desert in the second or first ring? Should you skip directly over it and proceed to next square or go around it to try and preserve the adjancecy of nodes. \n",
    "    \n",
    "    \n",
    "<br/>\n",
    "\n",
    "As a fun project, I've created a simulated board using a graph where resource fields are the nodes, hexes that share a side (ie a road location in between them) are neighbors, and each 3 node face is a settlement location. From here I can simulate each number tile distribution order and evaluate relative numeric power of each settlement location. A nine or five is twice as likely to be rolled as say an eleven or three. Sixes and eights are the second most likely and sevens are the most likely, though sevens are not on the board as a seven triggers the robber. From there we can find some strategy to set up an optimally balanced board. \n",
    "      \n",
    "</font>"
   ]
  },
  {
   "cell_type": "code",
   "execution_count": 1,
   "metadata": {},
   "outputs": [],
   "source": [
    "# The catan board has 19 tiles, 18 letters and 1 desert. In the adjacency matrix the tiles will be aranged as follows\n",
    "# from 0 to 18\n",
    "\n",
    "#         0   1   2\n",
    "\n",
    "#       3   4   5   6\n",
    "\n",
    "#     7   8   9   10  11\n",
    "\n",
    "#      12  13   14  15\n",
    "\n",
    "#       16   17   18"
   ]
  },
  {
   "cell_type": "markdown",
   "metadata": {},
   "source": [
    "### Creating a graph"
   ]
  },
  {
   "cell_type": "code",
   "execution_count": 2,
   "metadata": {},
   "outputs": [],
   "source": [
    "import numpy as np\n",
    "from IPython.display import SVG\n",
    "from scipy import sparse\n",
    "from scipy.sparse import csr_matrix\n",
    "\n",
    "from sknetwork.utils import edgelist2adjacency, edgelist2biadjacency\n",
    "from sknetwork.visualization import svg_graph"
   ]
  },
  {
   "cell_type": "code",
   "execution_count": 60,
   "metadata": {
    "scrolled": false
   },
   "outputs": [
    {
     "data": {
      "image/svg+xml": [
       "<svg height=\"340\" width=\"440\" xmlns=\"http://www.w3.org/2000/svg\">\n",
       "<path d=\"M 20 167 66 243\" stroke=\"black\" stroke-width=\"1.0\"/>\n",
       "<path d=\"M 330 171 370 247\" stroke=\"black\" stroke-width=\"1.0\"/>\n",
       "<path d=\"M 274 252 220 169\" stroke=\"black\" stroke-width=\"1.0\"/>\n",
       "<path d=\"M 274 252 330 171\" stroke=\"black\" stroke-width=\"1.0\"/>\n",
       "<path d=\"M 274 252 163 252\" stroke=\"black\" stroke-width=\"1.0\"/>\n",
       "<path d=\"M 274 252 370 247\" stroke=\"black\" stroke-width=\"1.0\"/>\n",
       "<path d=\"M 274 252 317 319\" stroke=\"black\" stroke-width=\"1.0\"/>\n",
       "<path d=\"M 274 252 217 320\" stroke=\"black\" stroke-width=\"1.0\"/>\n",
       "<path d=\"M 163 252 220 169\" stroke=\"black\" stroke-width=\"1.0\"/>\n",
       "<path d=\"M 163 252 274 252\" stroke=\"black\" stroke-width=\"1.0\"/>\n",
       "<path d=\"M 163 252 109 168\" stroke=\"black\" stroke-width=\"1.0\"/>\n",
       "<path d=\"M 163 252 217 320\" stroke=\"black\" stroke-width=\"1.0\"/>\n",
       "<path d=\"M 163 252 117 316\" stroke=\"black\" stroke-width=\"1.0\"/>\n",
       "<path d=\"M 163 252 66 243\" stroke=\"black\" stroke-width=\"1.0\"/>\n",
       "<path d=\"M 109 168 220 169\" stroke=\"black\" stroke-width=\"1.0\"/>\n",
       "<path d=\"M 109 168 166 87\" stroke=\"black\" stroke-width=\"1.0\"/>\n",
       "<path d=\"M 109 168 163 252\" stroke=\"black\" stroke-width=\"1.0\"/>\n",
       "<path d=\"M 109 168 69 93\" stroke=\"black\" stroke-width=\"1.0\"/>\n",
       "<path d=\"M 330 171 420 172\" stroke=\"black\" stroke-width=\"1.0\"/>\n",
       "<path d=\"M 109 168 66 243\" stroke=\"black\" stroke-width=\"1.0\"/>\n",
       "<path d=\"M 330 171 373 96\" stroke=\"black\" stroke-width=\"1.0\"/>\n",
       "<path d=\"M 330 171 276 89\" stroke=\"black\" stroke-width=\"1.0\"/>\n",
       "<path d=\"M 220 169 330 171\" stroke=\"black\" stroke-width=\"1.0\"/>\n",
       "<path d=\"M 220 169 274 252\" stroke=\"black\" stroke-width=\"1.0\"/>\n",
       "<path d=\"M 220 169 163 252\" stroke=\"black\" stroke-width=\"1.0\"/>\n",
       "<path d=\"M 220 169 109 168\" stroke=\"black\" stroke-width=\"1.0\"/>\n",
       "<path d=\"M 166 87 220 169\" stroke=\"black\" stroke-width=\"1.0\"/>\n",
       "<path d=\"M 166 87 276 89\" stroke=\"black\" stroke-width=\"1.0\"/>\n",
       "<path d=\"M 166 87 109 168\" stroke=\"black\" stroke-width=\"1.0\"/>\n",
       "<path d=\"M 166 87 69 93\" stroke=\"black\" stroke-width=\"1.0\"/>\n",
       "<path d=\"M 166 87 122 21\" stroke=\"black\" stroke-width=\"1.0\"/>\n",
       "<path d=\"M 166 87 222 20\" stroke=\"black\" stroke-width=\"1.0\"/>\n",
       "<path d=\"M 276 89 220 169\" stroke=\"black\" stroke-width=\"1.0\"/>\n",
       "<path d=\"M 276 89 166 87\" stroke=\"black\" stroke-width=\"1.0\"/>\n",
       "<path d=\"M 276 89 330 171\" stroke=\"black\" stroke-width=\"1.0\"/>\n",
       "<path d=\"M 276 89 222 20\" stroke=\"black\" stroke-width=\"1.0\"/>\n",
       "<path d=\"M 276 89 322 23\" stroke=\"black\" stroke-width=\"1.0\"/>\n",
       "<path d=\"M 276 89 373 96\" stroke=\"black\" stroke-width=\"1.0\"/>\n",
       "<path d=\"M 330 171 220 169\" stroke=\"black\" stroke-width=\"1.0\"/>\n",
       "<path d=\"M 330 171 274 252\" stroke=\"black\" stroke-width=\"1.0\"/>\n",
       "<path d=\"M 109 168 20 167\" stroke=\"black\" stroke-width=\"1.0\"/>\n",
       "<path d=\"M 69 93 166 87\" stroke=\"black\" stroke-width=\"1.0\"/>\n",
       "<path d=\"M 69 93 109 168\" stroke=\"black\" stroke-width=\"1.0\"/>\n",
       "<path d=\"M 370 247 317 319\" stroke=\"black\" stroke-width=\"1.0\"/>\n",
       "<path d=\"M 317 319 274 252\" stroke=\"black\" stroke-width=\"1.0\"/>\n",
       "<path d=\"M 317 319 370 247\" stroke=\"black\" stroke-width=\"1.0\"/>\n",
       "<path d=\"M 317 319 217 320\" stroke=\"black\" stroke-width=\"1.0\"/>\n",
       "<path d=\"M 217 320 274 252\" stroke=\"black\" stroke-width=\"1.0\"/>\n",
       "<path d=\"M 217 320 163 252\" stroke=\"black\" stroke-width=\"1.0\"/>\n",
       "<path d=\"M 217 320 317 319\" stroke=\"black\" stroke-width=\"1.0\"/>\n",
       "<path d=\"M 217 320 117 316\" stroke=\"black\" stroke-width=\"1.0\"/>\n",
       "<path d=\"M 117 316 163 252\" stroke=\"black\" stroke-width=\"1.0\"/>\n",
       "<path d=\"M 117 316 217 320\" stroke=\"black\" stroke-width=\"1.0\"/>\n",
       "<path d=\"M 117 316 66 243\" stroke=\"black\" stroke-width=\"1.0\"/>\n",
       "<path d=\"M 66 243 163 252\" stroke=\"black\" stroke-width=\"1.0\"/>\n",
       "<path d=\"M 66 243 109 168\" stroke=\"black\" stroke-width=\"1.0\"/>\n",
       "<path d=\"M 66 243 117 316\" stroke=\"black\" stroke-width=\"1.0\"/>\n",
       "<path d=\"M 66 243 20 167\" stroke=\"black\" stroke-width=\"1.0\"/>\n",
       "<path d=\"M 20 167 109 168\" stroke=\"black\" stroke-width=\"1.0\"/>\n",
       "<path d=\"M 20 167 69 93\" stroke=\"black\" stroke-width=\"1.0\"/>\n",
       "<path d=\"M 370 247 420 172\" stroke=\"black\" stroke-width=\"1.0\"/>\n",
       "<path d=\"M 370 247 274 252\" stroke=\"black\" stroke-width=\"1.0\"/>\n",
       "<path d=\"M 370 247 330 171\" stroke=\"black\" stroke-width=\"1.0\"/>\n",
       "<path d=\"M 420 172 370 247\" stroke=\"black\" stroke-width=\"1.0\"/>\n",
       "<path d=\"M 69 93 122 21\" stroke=\"black\" stroke-width=\"1.0\"/>\n",
       "<path d=\"M 69 93 20 167\" stroke=\"black\" stroke-width=\"1.0\"/>\n",
       "<path d=\"M 122 21 166 87\" stroke=\"black\" stroke-width=\"1.0\"/>\n",
       "<path d=\"M 122 21 69 93\" stroke=\"black\" stroke-width=\"1.0\"/>\n",
       "<path d=\"M 122 21 222 20\" stroke=\"black\" stroke-width=\"1.0\"/>\n",
       "<path d=\"M 222 20 166 87\" stroke=\"black\" stroke-width=\"1.0\"/>\n",
       "<path d=\"M 222 20 276 89\" stroke=\"black\" stroke-width=\"1.0\"/>\n",
       "<path d=\"M 222 20 122 21\" stroke=\"black\" stroke-width=\"1.0\"/>\n",
       "<path d=\"M 220 169 276 89\" stroke=\"black\" stroke-width=\"1.0\"/>\n",
       "<path d=\"M 222 20 322 23\" stroke=\"black\" stroke-width=\"1.0\"/>\n",
       "<path d=\"M 322 23 222 20\" stroke=\"black\" stroke-width=\"1.0\"/>\n",
       "<path d=\"M 322 23 373 96\" stroke=\"black\" stroke-width=\"1.0\"/>\n",
       "<path d=\"M 373 96 276 89\" stroke=\"black\" stroke-width=\"1.0\"/>\n",
       "<path d=\"M 373 96 330 171\" stroke=\"black\" stroke-width=\"1.0\"/>\n",
       "<path d=\"M 373 96 322 23\" stroke=\"black\" stroke-width=\"1.0\"/>\n",
       "<path d=\"M 373 96 420 172\" stroke=\"black\" stroke-width=\"1.0\"/>\n",
       "<path d=\"M 420 172 330 171\" stroke=\"black\" stroke-width=\"1.0\"/>\n",
       "<path d=\"M 420 172 373 96\" stroke=\"black\" stroke-width=\"1.0\"/>\n",
       "<path d=\"M 322 23 276 89\" stroke=\"black\" stroke-width=\"1.0\"/>\n",
       "<path d=\"M 220 169 166 87\" stroke=\"black\" stroke-width=\"1.0\"/>\n",
       "<circle cx=\"20\" cy=\"167\" r=\"7.0\" style=\"fill:gray;stroke:black;stroke-width:1.0\"/>\n",
       "<circle cx=\"66\" cy=\"243\" r=\"7.0\" style=\"fill:gray;stroke:black;stroke-width:1.0\"/>\n",
       "<circle cx=\"117\" cy=\"316\" r=\"7.0\" style=\"fill:gray;stroke:black;stroke-width:1.0\"/>\n",
       "<circle cx=\"217\" cy=\"320\" r=\"7.0\" style=\"fill:gray;stroke:black;stroke-width:1.0\"/>\n",
       "<circle cx=\"317\" cy=\"319\" r=\"7.0\" style=\"fill:gray;stroke:black;stroke-width:1.0\"/>\n",
       "<circle cx=\"370\" cy=\"247\" r=\"7.0\" style=\"fill:gray;stroke:black;stroke-width:1.0\"/>\n",
       "<circle cx=\"420\" cy=\"172\" r=\"7.0\" style=\"fill:gray;stroke:black;stroke-width:1.0\"/>\n",
       "<circle cx=\"373\" cy=\"96\" r=\"7.0\" style=\"fill:gray;stroke:black;stroke-width:1.0\"/>\n",
       "<circle cx=\"322\" cy=\"23\" r=\"7.0\" style=\"fill:gray;stroke:black;stroke-width:1.0\"/>\n",
       "<circle cx=\"222\" cy=\"20\" r=\"7.0\" style=\"fill:gray;stroke:black;stroke-width:1.0\"/>\n",
       "<circle cx=\"122\" cy=\"21\" r=\"7.0\" style=\"fill:gray;stroke:black;stroke-width:1.0\"/>\n",
       "<circle cx=\"69\" cy=\"93\" r=\"7.0\" style=\"fill:gray;stroke:black;stroke-width:1.0\"/>\n",
       "<circle cx=\"109\" cy=\"168\" r=\"7.0\" style=\"fill:gray;stroke:black;stroke-width:1.0\"/>\n",
       "<circle cx=\"163\" cy=\"252\" r=\"7.0\" style=\"fill:gray;stroke:black;stroke-width:1.0\"/>\n",
       "<circle cx=\"274\" cy=\"252\" r=\"7.0\" style=\"fill:gray;stroke:black;stroke-width:1.0\"/>\n",
       "<circle cx=\"330\" cy=\"171\" r=\"7.0\" style=\"fill:gray;stroke:black;stroke-width:1.0\"/>\n",
       "<circle cx=\"276\" cy=\"89\" r=\"7.0\" style=\"fill:gray;stroke:black;stroke-width:1.0\"/>\n",
       "<circle cx=\"166\" cy=\"87\" r=\"7.0\" style=\"fill:gray;stroke:black;stroke-width:1.0\"/>\n",
       "<circle cx=\"220\" cy=\"169\" r=\"7.0\" style=\"fill:gray;stroke:black;stroke-width:1.0\"/>\n",
       "</svg>"
      ],
      "text/plain": [
       "<IPython.core.display.SVG object>"
      ]
     },
     "execution_count": 60,
     "metadata": {},
     "output_type": "execute_result"
    }
   ],
   "source": [
    "# First we create an undirected graph of all the edges in the board (ie neighboring tiles)\n",
    "\n",
    "edgelist = [(0, 1),   (0, 11),   (0, 12),\n",
    "            (1,2), (1,13), (1,12),\n",
    "            (2, 3), (2, 13),\n",
    "            (11, 12), (11, 17), (11,10),\n",
    "            (12, 13), (12, 18), (12, 17),\n",
    "            (13, 3), (13, 14), (13, 18),\n",
    "            (3, 4), (3, 14),\n",
    "            (4, 14), (4, 5),\n",
    "            (5, 14), (5, 15), (5, 6),\n",
    "            (14, 15), (14, 18),\n",
    "            (18, 17), (18, 16), (18, 15),\n",
    "            (10, 17), (10, 9),\n",
    "            (17, 9), (17, 16),\n",
    "            (6, 15), (6, 7),\n",
    "            (15, 16), (15, 7),\n",
    "            (16, 7), (16, 8), (16,9),\n",
    "            (8,7),(8,9)\n",
    "           ]\n",
    "\n",
    "adjacency = edgelist2adjacency(edgelist, undirected=True)\n",
    "\n",
    "image = svg_graph(adjacency)\n",
    "SVG(image)  "
   ]
  },
  {
   "cell_type": "markdown",
   "metadata": {},
   "source": [
    "<font size=\"4\"> \n",
    "\n",
    "\n",
    "Constructing this graph with scipi matrix tools gives a lovely graph illustration that actually looks like a catan board! I think were on the right track. You can consider each vertex (gray dot) a resource field and every edge a road location and every triangular face a possible settlement location.\n",
    "    \n",
    "<br/>\n",
    "    \n",
    "Now we create a quick adjacency matrix and find all the triplets in the graph\n",
    "</font>"
   ]
  },
  {
   "cell_type": "code",
   "execution_count": 4,
   "metadata": {},
   "outputs": [],
   "source": [
    "adj_list = {}\n",
    "\n",
    "matrix = adjacency.toarray().astype(int)\n",
    "\n",
    "for i in range(0,19):\n",
    "    adj_list[i] = []\n",
    "\n",
    "for i in range(0,19):\n",
    "    for j in range(0,19):\n",
    "        if matrix[i][j]==1:\n",
    "            adj_list[i].append(j)\n",
    "\n",
    "#adj_list"
   ]
  },
  {
   "cell_type": "code",
   "execution_count": 5,
   "metadata": {},
   "outputs": [],
   "source": [
    "def triplets(node, graph):\n",
    "    triplets = []\n",
    "    node_neighbors = graph[node]\n",
    "    #print('*** neighbors of ', node,' are ',node_neighbors,'***')\n",
    "    #iterate though neighbors of the node youre doing\n",
    "    for i in node_neighbors:\n",
    "        #print('\\ncurrent neighbor of node',node,'is',i)\n",
    "        neighbor_neighbors = graph[i]\n",
    "        #print('neighbors of neighbor',i, 'is', neighbor_neighbors)\n",
    "        for j in neighbor_neighbors:\n",
    "            if j in node_neighbors:\n",
    "                if {node,i,j} not in triplets:\n",
    "                    triplets.append({node,i,j})\n",
    "\n",
    "    return(triplets)\n",
    "#triplets(0, adj_list)\n",
    "\n",
    "all_faces = []\n",
    "\n",
    "for i in range(0,19):\n",
    "    node_triplets = triplets(i, adj_list)\n",
    "    for i in node_triplets:\n",
    "        if i not in all_faces:\n",
    "            all_faces.append(i)\n",
    "#all_faces"
   ]
  },
  {
   "cell_type": "markdown",
   "metadata": {},
   "source": [
    "<font size=\"4\"> \n",
    "\n",
    "Now we have all the faces of the graph i.e. all the possible settlement locations, we can assign them their number tile (a tuple of (label, dice roll, power))\n",
    "    \n",
    "<br/>\n",
    "\n",
    "'Power' is the likelihood of getting hit in quantities of 1/36ths (2.78%), i.e. a 6 or 8 has a 5/36th (~14%) chance of getting rolled each turn. A powerful 8-5-9 intersection has a 13/36th or 36.1% chance of yielding a resource to a settlement each time the dice are rolled.  \n",
    "    \n",
    "    \n",
    "Here is a quick little chart showing the probabilities of dice rolls.\n",
    "    "
   ]
  },
  {
   "cell_type": "code",
   "execution_count": 6,
   "metadata": {},
   "outputs": [
    {
     "data": {
      "text/plain": [
       "<matplotlib.axes._subplots.AxesSubplot at 0x1165e1750>"
      ]
     },
     "execution_count": 6,
     "metadata": {},
     "output_type": "execute_result"
    },
    {
     "data": {
      "image/png": "[encoded data removed]",
      "text/plain": [
       "<Figure size 432x288 with 1 Axes>"
      ]
     },
     "metadata": {
      "needs_background": "light"
     },
     "output_type": "display_data"
    }
   ],
   "source": [
    "import pandas as pd\n",
    "\n",
    "roll_outcomes = np.zeros((6,6), dtype=int)\n",
    "\n",
    "for i in range(1,7):\n",
    "    for j in range(1,7):\n",
    "        roll_outcomes[i-1,j-1] = j+i\n",
    "\n",
    "roll_freq = pd.DataFrame(data={\"Outcome\":np.unique(roll_outcomes, return_counts=True)[0], \n",
    "                               \"Frequency\":np.unique(roll_outcomes, return_counts=True)[1]})\n",
    "\n",
    "roll_freq.plot.bar(x='Outcome', y='Frequency', rot=0, color='#007acc', alpha=0.8)"
   ]
  },
  {
   "cell_type": "code",
   "execution_count": 7,
   "metadata": {},
   "outputs": [],
   "source": [
    "# Letter encodings are as follow: \n",
    "# A:5, B:2, C:6, D:3, E:8, F:10, G:9, H:12, I:11,\n",
    "# J:4, K:8, L:10, M:9, N:4, O:5, P:6, Q:3, R:11\n",
    "\n",
    "# the '#' sign denotes desert\n",
    "\n",
    "letters = [(\"A\",\"5\",4),  # 0\n",
    "           (\"B\",\"2\",1),  # 1\n",
    "           (\"C\",\"6\",5),  # 2\n",
    "           (\"D\",\"3\",2),  # 3\n",
    "           (\"E\",\"8\",5),  # 4\n",
    "           (\"F\",\"10\",3), # 5\n",
    "           (\"G\",\"9\",4),  # 6\n",
    "           (\"H\",\"12\",1), # 7\n",
    "           (\"I\",\"11\",2), # 8\n",
    "           (\"J\",\"4\",3),  # 9\n",
    "           (\"K\",\"8\",5),  # 10\n",
    "           (\"L\",\"10\",3), # 11\n",
    "           (\"M\",\"9\",4),  # 12\n",
    "           (\"N\",\"4\",3),  # 13\n",
    "           (\"O\",\"5\",4),  # 14\n",
    "           (\"P\",\"6\",5),  # 15\n",
    "           (\"Q\",\"3\",2),  # 16\n",
    "           (\"R\",\"11\",2), # 17\n",
    "           (\"#\",\"#\",0)   # 18\n",
    "          ]"
   ]
  },
  {
   "cell_type": "code",
   "execution_count": 8,
   "metadata": {},
   "outputs": [],
   "source": [
    "# quick board display function\n",
    "def printboard(order,type):\n",
    "    # type == 0 for letter, 1 for number, 2 for power\n",
    "    # numbers seem jumbled up but thats becuase it snakes around the board, more on this later\n",
    "    print(\"     \",order[0][type],\"   \", order[1][type],\"   \", order[2][type],'\\n')\n",
    "    print(\"  \",order[11][type],\"   \", order[12][type],\"   \", order[13][type],\"   \", order[3][type],'\\n')\n",
    "    print(order[10][type],\"   \", order[17][type],\"   \", order[18][type],\"   \", order[14][type],\"   \", order[4][type],'\\n')\n",
    "    print(\"  \",order[9][type],\"   \", order[16][type],\"   \", order[15][type],\"   \", order[5][type],'\\n')\n",
    "    print(\"     \",order[8][type],\"   \", order[7][type],\"   \", order[6][type],'\\n') "
   ]
  },
  {
   "cell_type": "markdown",
   "metadata": {},
   "source": [
    "<font size=\"4\">    \n",
    "Here is an ideal board with letters in order snaking around board and the desert in the middle\n",
    "</font>"
   ]
  },
  {
   "cell_type": "code",
   "execution_count": 9,
   "metadata": {
    "scrolled": true
   },
   "outputs": [
    {
     "name": "stdout",
     "output_type": "stream",
     "text": [
      "      A     B     C \n",
      "\n",
      "   L     M     N     D \n",
      "\n",
      "K     R     #     O     E \n",
      "\n",
      "   J     Q     P     F \n",
      "\n",
      "      I     H     G \n",
      "\n"
     ]
    }
   ],
   "source": [
    "printboard(letters,0)"
   ]
  },
  {
   "cell_type": "markdown",
   "metadata": {},
   "source": [
    "<font size=\"4\">    \n",
    "Now that we 'flip the tiles' these are the dice numbers\n",
    "</font>"
   ]
  },
  {
   "cell_type": "code",
   "execution_count": 10,
   "metadata": {},
   "outputs": [
    {
     "name": "stdout",
     "output_type": "stream",
     "text": [
      "      5     2     6 \n",
      "\n",
      "   10     9     4     3 \n",
      "\n",
      "8     11     #     5     8 \n",
      "\n",
      "   4     3     6     10 \n",
      "\n",
      "      11     12     9 \n",
      "\n"
     ]
    }
   ],
   "source": [
    "printboard(letters,1)"
   ]
  },
  {
   "cell_type": "markdown",
   "metadata": {},
   "source": [
    "<font size=\"4\">    \n",
    "And here as dice numbers converted into their power weights. Notice none of the five power numbers (6 or 8) are next to each other (which would be massively overpowered, but also no (5, 4, 4) power settlement location e.g. (6, 5, 9) or (8, 5, 9). These can be avoided with perfect theoretical board of a middle desert. Currenly there is no point with more than 12 points of production.\n",
    "</font>"
   ]
  },
  {
   "cell_type": "code",
   "execution_count": 11,
   "metadata": {},
   "outputs": [
    {
     "name": "stdout",
     "output_type": "stream",
     "text": [
      "      4     1     5 \n",
      "\n",
      "   3     4     3     2 \n",
      "\n",
      "5     2     0     4     5 \n",
      "\n",
      "   3     2     5     3 \n",
      "\n",
      "      2     1     4 \n",
      "\n"
     ]
    }
   ],
   "source": [
    "printboard(letters,2) # i.e. productive likelihood"
   ]
  },
  {
   "cell_type": "markdown",
   "metadata": {},
   "source": [
    "<font size=\"4\">    \n",
    "Lets look at every intersection:\n",
    "</font>"
   ]
  },
  {
   "cell_type": "code",
   "execution_count": 12,
   "metadata": {},
   "outputs": [
    {
     "name": "stdout",
     "output_type": "stream",
     "text": [
      "[ NAME    NUMBERS   POWER]\n"
     ]
    },
    {
     "data": {
      "text/plain": [
       "[['EFO', '8, 10, 5', 12],\n",
       " ['FGP', '10, 9, 6', 12],\n",
       " ['FOP', '10, 5, 6', 12],\n",
       " ['ALM', '5, 10, 9', 11],\n",
       " ['DEO', '3, 8, 5', 11],\n",
       " ['CDN', '6, 3, 4', 10],\n",
       " ['PGH', '6, 9, 12', 10],\n",
       " ['JKR', '4, 8, 11', 10],\n",
       " ['RKL', '11, 8, 10', 10],\n",
       " ['ABM', '5, 2, 9', 9],\n",
       " ['BCN', '2, 6, 4', 9],\n",
       " ['DNO', '3, 4, 5', 9],\n",
       " ['RLM', '11, 10, 9', 9],\n",
       " ['#OP', '#, 5, 6', 9],\n",
       " ['BMN', '2, 9, 4', 8],\n",
       " ['QPH', '3, 6, 12', 8],\n",
       " ['IJQ', '11, 4, 3', 7],\n",
       " ['QJR', '3, 4, 11', 7],\n",
       " ['#MN', '#, 9, 4', 7],\n",
       " ['#NO', '#, 4, 5', 7],\n",
       " ['Q#P', '3, #, 6', 7],\n",
       " ['R#M', '11, #, 9', 6],\n",
       " ['IQH', '11, 3, 12', 5],\n",
       " ['QR#', '3, 11, #', 4]]"
      ]
     },
     "execution_count": 12,
     "metadata": {},
     "output_type": "execute_result"
    }
   ],
   "source": [
    "def intersections(all_faces, order):\n",
    "    all_intersections = []\n",
    "    for i in all_faces:\n",
    "        l = [\"\",\"\",0]\n",
    "        for j in i:\n",
    "            l[0] += order[j][0]\n",
    "            if l[1] != \"\":\n",
    "                l[1] += \", \"+order[j][1]\n",
    "            else:\n",
    "                l[1] += order[j][1]\n",
    "            l[2] += order[j][2]\n",
    "        all_intersections.append(l)\n",
    "    return(sorted(all_intersections, key=lambda x: x[2], reverse=True))\n",
    "\n",
    "print(\"[ NAME    NUMBERS   POWER]\")\n",
    "intersections(all_faces, letters)"
   ]
  },
  {
   "cell_type": "markdown",
   "metadata": {},
   "source": [
    "<font size=\"4\">    \n",
    "As you can see this board is *very* balanced. Incredibly so, not even a (6, 5, 9) or (8, 5, 9) which has a dice weight of 13 and is usually present in boards where the desert is not in the middle. \n",
    "    \n",
    "<br />\n",
    "    \n",
    "It's a bit of an oversimplificaiton and in later in another post I'll look at other aspects of the game (optimal two settlement setups, blocking players off of adjacent settlement locations and some stats on balancing raw resouce production versus a diversity of resources) but for now lets just see if we can create equally good boards with the desert not in the middle. I occasionlly raise the issue of putting the desert in the middle for optimal balance and people usually insist on keeping it on the outer ring, claiming to enjoy the mildly overpowered points. A couple strong points for the first and second player to scoop up helps balance out the critial ability to plan out both settlements more that the third and especially fourth player to place have. \n",
    "\n",
    "  \n",
    "    \n",
    "<br />\n",
    "    \n",
    "Lets do this again and stick the desert somewhere in the first ring (first 12). Putting it in the first 12, and then we'll skip directly 'over' it rather than around, ie continue in the original pattern simply skipping the desert rather than placing around it.\n",
    "</font>"
   ]
  },
  {
   "cell_type": "code",
   "execution_count": 13,
   "metadata": {},
   "outputs": [
    {
     "name": "stdout",
     "output_type": "stream",
     "text": [
      "      A     B     C \n",
      "\n",
      "   K     L     M     D \n",
      "\n",
      "J     Q     R     N     # \n",
      "\n",
      "   I     P     O     E \n",
      "\n",
      "      H     G     F \n",
      "\n"
     ]
    },
    {
     "data": {
      "text/plain": [
       "[['POG', '6, 5, 9', 13],\n",
       " ['AKL', '5, 8, 10', 12],\n",
       " ['EFO', '8, 10, 5', 12],\n",
       " ['ENO', '8, 4, 5', 12],\n",
       " ['CDM', '6, 3, 9', 11],\n",
       " ['OFG', '5, 10, 9', 11],\n",
       " ['PRO', '6, 11, 5', 11],\n",
       " ['BCM', '2, 6, 9', 10],\n",
       " ['HPG', '12, 6, 9', 10],\n",
       " ['QJK', '3, 4, 8', 10],\n",
       " ['QKL', '3, 8, 10', 10],\n",
       " ['DMN', '3, 9, 4', 9],\n",
       " ['PIQ', '6, 11, 3', 9],\n",
       " ['RLM', '11, 10, 9', 9],\n",
       " ['RMN', '11, 9, 4', 9],\n",
       " ['RNO', '11, 4, 5', 9],\n",
       " ['PQR', '6, 3, 11', 9],\n",
       " ['ABL', '5, 2, 10', 8],\n",
       " ['BLM', '2, 10, 9', 8],\n",
       " ['#EN', '#, 8, 4', 8],\n",
       " ['HIP', '12, 11, 6', 8],\n",
       " ['IJQ', '11, 4, 3', 7],\n",
       " ['QRL', '3, 11, 10', 7],\n",
       " ['D#N', '3, #, 4', 5]]"
      ]
     },
     "execution_count": 13,
     "metadata": {},
     "output_type": "execute_result"
    }
   ],
   "source": [
    "des_1st_ring_skip = letters.copy()\n",
    "des_1st_ring_skip.insert(4, des_1st_ring_skip.pop()) #stick the desert into the fifth spot\n",
    "\n",
    "printboard(des_1st_ring_skip, 0)\n",
    "intersections(all_faces, des_1st_ring_skip)"
   ]
  },
  {
   "cell_type": "markdown",
   "metadata": {},
   "source": [
    "<font size=\"4\">    \n",
    " *** insert figure 1 of direct skip over above *** \n",
    "    \n",
    "<br />\n",
    "\n",
    "    \n",
    "So desert is on the outside, and we just skipped right over it. Lets contrast that with going around it (ie placing where the N tile is now). Interestingly in this special case of desert on edge very very few of the numbers have changed positions when you go around the edge desert rather than skip. You can see it programatically too as you only swap three elements of the list.\n",
    "<br />\n",
    "    \n",
    "\n",
    " *** insert figure 2 of skip around below *** \n",
    "\n",
    "\n",
    "</font>"
   ]
  },
  {
   "cell_type": "code",
   "execution_count": 14,
   "metadata": {},
   "outputs": [
    {
     "name": "stdout",
     "output_type": "stream",
     "text": [
      "      A     B     C \n",
      "\n",
      "   L     M     N     D \n",
      "\n",
      "K     R     O     E     # \n",
      "\n",
      "   J     Q     P     F \n",
      "\n",
      "      I     H     G \n",
      "\n"
     ]
    },
    {
     "data": {
      "text/plain": [
       "[['OEP', '5, 8, 6', 14],\n",
       " ['FEP', '10, 8, 6', 13],\n",
       " ['FGP', '10, 9, 6', 12],\n",
       " ['ONE', '5, 4, 8', 12],\n",
       " ['ALM', '5, 10, 9', 11],\n",
       " ['OMN', '5, 9, 4', 11],\n",
       " ['QOP', '3, 5, 6', 11],\n",
       " ['CDN', '6, 3, 4', 10],\n",
       " ['DNE', '3, 4, 8', 10],\n",
       " ['PGH', '6, 9, 12', 10],\n",
       " ['JKR', '4, 8, 11', 10],\n",
       " ['RKL', '11, 8, 10', 10],\n",
       " ['ROM', '11, 5, 9', 10],\n",
       " ['ABM', '5, 2, 9', 9],\n",
       " ['BCN', '2, 6, 4', 9],\n",
       " ['RLM', '11, 10, 9', 9],\n",
       " ['BMN', '2, 9, 4', 8],\n",
       " ['#FE', '#, 10, 8', 8],\n",
       " ['QPH', '3, 6, 12', 8],\n",
       " ['QRO', '3, 11, 5', 8],\n",
       " ['D#E', '3, #, 8', 7],\n",
       " ['IJQ', '11, 4, 3', 7],\n",
       " ['QJR', '3, 4, 11', 7],\n",
       " ['IQH', '11, 3, 12', 5]]"
      ]
     },
     "execution_count": 14,
     "metadata": {},
     "output_type": "execute_result"
    }
   ],
   "source": [
    "des_1st_ring_around = letters.copy()\n",
    "des_1st_ring_around.insert(13, des_1st_ring_around.pop(4)) # put E where the O goes\n",
    "des_1st_ring_around.insert(17, des_1st_ring_around.pop(14)) # put the O almost at the end\n",
    "des_1st_ring_around.insert(4, des_1st_ring_around.pop(-1)) # put the desert in between the D & F\n",
    "\n",
    "printboard(des_1st_ring_around,0)\n",
    "intersections(all_faces, des_1st_ring_around)"
   ]
  },
  {
   "cell_type": "markdown",
   "metadata": {},
   "source": [
    "<font size=\"4\">    \n",
    "\n",
    "Yikes okay going over rather than around is much better for when the desert in in one of the six corners, but lets just check the case where the tile is in the center edge. (You could say.. the edge case lol)\n",
    "    \n",
    "<br/>\n",
    "There are six corner spots and 6 outer ring spots not in the corner. These are the center edge spots.  "
   ]
  },
  {
   "cell_type": "markdown",
   "metadata": {},
   "source": [
    "<img src=\"corner.jpeg\">"
   ]
  },
  {
   "cell_type": "markdown",
   "metadata": {},
   "source": [
    "<font size=\"4\">    \n",
    "\n",
    "\n",
    "This above is a corner, while this below is an edge. Pretty straight forward."
   ]
  },
  {
   "cell_type": "markdown",
   "metadata": {},
   "source": [
    "<img src=\"edge.jpeg\">"
   ]
  },
  {
   "cell_type": "code",
   "execution_count": 17,
   "metadata": {},
   "outputs": [
    {
     "name": "stdout",
     "output_type": "stream",
     "text": [
      "      A     B     C \n",
      "\n",
      "   K     L     M     D \n",
      "\n",
      "J     Q     R     N     E \n",
      "\n",
      "   I     P     O     # \n",
      "\n",
      "      H     G     F \n",
      "\n"
     ]
    },
    {
     "data": {
      "text/plain": [
       "[['POG', '6, 5, 9', 13],\n",
       " ['AKL', '5, 8, 10', 12],\n",
       " ['CDM', '6, 3, 9', 11],\n",
       " ['OFG', '5, 10, 9', 11],\n",
       " ['PRO', '6, 11, 5', 11],\n",
       " ['BCM', '2, 6, 9', 10],\n",
       " ['DEN', '3, 8, 4', 10],\n",
       " ['HPG', '12, 6, 9', 10],\n",
       " ['QJK', '3, 4, 8', 10],\n",
       " ['QKL', '3, 8, 10', 10],\n",
       " ['DMN', '3, 9, 4', 9],\n",
       " ['PIQ', '6, 11, 3', 9],\n",
       " ['RLM', '11, 10, 9', 9],\n",
       " ['RMN', '11, 9, 4', 9],\n",
       " ['RNO', '11, 4, 5', 9],\n",
       " ['PQR', '6, 3, 11', 9],\n",
       " ['ABL', '5, 2, 10', 8],\n",
       " ['BLM', '2, 10, 9', 8],\n",
       " ['E#N', '8, #, 4', 8],\n",
       " ['HIP', '12, 11, 6', 8],\n",
       " ['#FO', '#, 10, 5', 7],\n",
       " ['#NO', '#, 4, 5', 7],\n",
       " ['IJQ', '11, 4, 3', 7],\n",
       " ['QRL', '3, 11, 10', 7]]"
      ]
     },
     "execution_count": 17,
     "metadata": {},
     "output_type": "execute_result"
    }
   ],
   "source": [
    "des_1st_ring_edge_skip = letters.copy()\n",
    "des_1st_ring_edge_skip.insert(5, des_1st_ring_edge_skip.pop()) #stick the desert into the fifth spot\n",
    "\n",
    "printboard(des_1st_ring_edge_skip, 0)\n",
    "intersections(all_faces, des_1st_ring_edge_skip)"
   ]
  },
  {
   "cell_type": "markdown",
   "metadata": {},
   "source": [
    "<font size=\"4\">    \n",
    "\n",
    "\n",
    "\n",
    "Not super balanced, but not overly unbalanced. For now it may seem that going over rather than around is superior but lets do the around case for a middle edge spot. (And actually we're starting on a specific spot, more on that later)"
   ]
  },
  {
   "cell_type": "code",
   "execution_count": 34,
   "metadata": {},
   "outputs": [
    {
     "name": "stdout",
     "output_type": "stream",
     "text": [
      "      A     B     C \n",
      "\n",
      "   M     N     O     D \n",
      "\n",
      "L     R     P     F     E \n",
      "\n",
      "   K     Q     G     # \n",
      "\n",
      "      J     I     H \n",
      "\n"
     ]
    },
    {
     "data": {
      "text/plain": [
       "[['PNO', '6, 4, 5', 12],\n",
       " ['POF', '6, 5, 10', 12],\n",
       " ['PFG', '6, 10, 9', 12],\n",
       " ['AMN', '5, 9, 4', 11],\n",
       " ['CDO', '6, 3, 5', 11],\n",
       " ['QPG', '3, 6, 9', 11],\n",
       " ['BCO', '2, 6, 5', 10],\n",
       " ['DEF', '3, 8, 10', 10],\n",
       " ['JKQ', '4, 8, 3', 10],\n",
       " ['KLR', '8, 10, 11', 10],\n",
       " ['RPN', '11, 6, 4', 10],\n",
       " ['DOF', '3, 5, 10', 9],\n",
       " ['QKR', '3, 8, 11', 9],\n",
       " ['RLM', '11, 10, 9', 9],\n",
       " ['RMN', '11, 9, 4', 9],\n",
       " ['QRP', '3, 11, 6', 9],\n",
       " ['ABN', '5, 2, 4', 8],\n",
       " ['BNO', '2, 4, 5', 8],\n",
       " ['E#F', '8, #, 10', 8],\n",
       " ['QGI', '3, 9, 11', 8],\n",
       " ['#FG', '#, 10, 9', 7],\n",
       " ['GHI', '9, 12, 11', 7],\n",
       " ['JQI', '4, 3, 11', 7],\n",
       " ['#HG', '#, 12, 9', 5]]"
      ]
     },
     "execution_count": 34,
     "metadata": {},
     "output_type": "execute_result"
    }
   ],
   "source": [
    "des_1st_ring_edge_around = letters.copy()\n",
    "des_1st_ring_edge_around.insert(5, des_1st_ring_edge_around.pop())\n",
    "des_1st_ring_edge_around.insert(15, des_1st_ring_edge_around.pop(6))\n",
    "des_1st_ring_edge_around.insert(15, des_1st_ring_edge_around.pop(6))\n",
    "des_1st_ring_edge_around.insert(18, des_1st_ring_edge_around.pop(16))\n",
    "\n",
    "#des_1st_ring_edge_around\n",
    "printboard(des_1st_ring_edge_around, 0)\n",
    "intersections(all_faces, des_1st_ring_edge_around)"
   ]
  },
  {
   "cell_type": "markdown",
   "metadata": {},
   "source": [
    "<font size=\"4\">    \n",
    "\n",
    "Interestingly (and to my sincere surprise) we now get a *very* balanced board. Three 12 point spots, then three 11 point spots and then a bunch of 10 point spots is incredible. It has the same relative balance as the theoretically optimal setup with the desert in the middle (theoretically ideal, through people seem to hate playing on a center desert map). The board also isn't 'too balanced', giving the first player to place (who is also the last player to place) a pick of the highest producing spots. Generalizing the actual resources and their relative scarcities (in a later post I might add this to the model), the first three players can choose to grab the highest producing spots and then the last player to place (traditionally the most desired placement order as they can place both settlements at once) will be left with the 11 point spots or an resource undesirable 12 point spot.  \n",
    "    \n",
    "<br/>\n",
    "\n",
    "    \n",
    "    \n",
    "The final two points, R & Q are can theoretically be switched as they have the same power value, though putting the Q at the bottom and the R at the left (from the bottom orientation) may be best as to keep the 11's non-adjacent which would make a highly variable (feast or famine) placement. It is critical that the P remains in the middle as it is a 6 (with a power score of 5, so relatively high producing field). \n",
    "\n",
    "<br/>\n",
    "\n",
    "\n",
    "I'm not kidding, this is literally the most balanced setup and it still keeps the desert on the outside ring. To get it to work you have to start with the A tile (the first number tile) on the corner opposite the desert, the 'top right' tile if you're looking down at the board and go clockwise. "
   ]
  },
  {
   "cell_type": "markdown",
   "metadata": {},
   "source": [
    "<img src=\"edge_annotated.jpeg\">"
   ]
  },
  {
   "cell_type": "markdown",
   "metadata": {},
   "source": [
    "<font size=\"4\">    \n",
    "\n",
    "Maybe its too much work, or maybe you prefer a slighly unbalanced board to help the first players compete with the double placement of the fourth player, but its a fun setup and one worth trying."
   ]
  }
 ],
 "metadata": {
  "kernelspec": {
   "display_name": "Python 3",
   "language": "python",
   "name": "python3"
  },
  "language_info": {
   "codemirror_mode": {
    "name": "ipython",
    "version": 3
   },
   "file_extension": ".py",
   "mimetype": "text/x-python",
   "name": "python",
   "nbconvert_exporter": "python",
   "pygments_lexer": "ipython3",
   "version": "3.7.6"
  }
 },
 "nbformat": 4,
 "nbformat_minor": 4
}
